{
 "cells": [
  {
   "cell_type": "code",
   "execution_count": 5,
   "id": "804f5f71-0436-4e2a-9993-f62328582de0",
   "metadata": {
    "scrolled": true
   },
   "outputs": [],
   "source": [
    "import numpy as np\n",
    "import pandas as pd\n",
    "import polars as pl\n",
    "from sqlalchemy import create_engine"
   ]
  },
  {
   "cell_type": "code",
   "execution_count": 2,
   "id": "d94bcdc9-f4ba-4be3-b1a6-37ffd82a1437",
   "metadata": {},
   "outputs": [],
   "source": [
    "# First time pip installs\n",
    "# pip install jupysql pyarrow psycopg"
   ]
  },
  {
   "cell_type": "markdown",
   "id": "bbb84333-e82a-49b4-b7aa-8fab2d07b569",
   "metadata": {},
   "source": [
    "## Database Setup "
   ]
  },
  {
   "cell_type": "markdown",
   "id": "3951eb3e-68e2-4448-8f50-1d78e73ea5f6",
   "metadata": {},
   "source": [
    "#### Downloading The Data"
   ]
  },
  {
   "cell_type": "markdown",
   "id": "0589fd7f-b10e-4ffe-81b0-3af18523d948",
   "metadata": {},
   "source": [
    "To download the data uncomment the code below"
   ]
  },
  {
   "cell_type": "code",
   "execution_count": 3,
   "id": "545ec711-56f3-4eca-8179-4ef04959b862",
   "metadata": {},
   "outputs": [],
   "source": [
    "# pip install gdown\n",
    "# !gdown 1NOhnBmfMpJqv3kJ-z9klC0JPmAc2g-6K"
   ]
  },
  {
   "cell_type": "markdown",
   "id": "d3e7e23e-f8de-417e-9bb2-6f83e226280c",
   "metadata": {},
   "source": [
    "#### Loading Postgres"
   ]
  },
  {
   "cell_type": "markdown",
   "id": "f190ac51-3bb3-4e97-8a4a-375133a0eb59",
   "metadata": {},
   "source": [
    "You may need to start postgres via `pg_ctl start -D pgdata` or any other method"
   ]
  },
  {
   "cell_type": "code",
   "execution_count": 4,
   "id": "7932be98-1a9b-493e-afb0-4ada6ae91788",
   "metadata": {},
   "outputs": [],
   "source": [
    "%reload_ext sql"
   ]
  },
  {
   "cell_type": "code",
   "execution_count": 5,
   "id": "3dedb3c7-27c0-4da5-bc6f-53a2f8c77a7b",
   "metadata": {},
   "outputs": [
    {
     "name": "stdout",
     "output_type": "stream",
     "text": [
      "DROP DATABASE\n",
      "CREATE DATABASE\n"
     ]
    }
   ],
   "source": [
    "!psql postgresql://localhost/postgres -c 'DROP DATABASE IF EXISTS db'\n",
    "!psql postgresql://localhost/postgres -c 'CREATE DATABASE db'"
   ]
  },
  {
   "cell_type": "markdown",
   "id": "08937571-d24b-483e-8371-c0f78f034e4d",
   "metadata": {
    "jp-MarkdownHeadingCollapsed": true
   },
   "source": [
    "#### Building the Database (ignore if using sample.csv)"
   ]
  },
  {
   "cell_type": "markdown",
   "id": "f9392ffd-17ec-47b2-8aad-6209e8ff2aec",
   "metadata": {},
   "source": [
    "We first sample 1,000,000 rows from the CSV file using pandas to create a smaller sampled dataset to construct the database with"
   ]
  },
  {
   "cell_type": "code",
   "execution_count": null,
   "id": "50efbb45-e8c1-409b-80c6-e77c5cec347c",
   "metadata": {},
   "outputs": [],
   "source": [
    "df = pl.read_csv('Covid-19_Ver2.csv', low_memory=False) # remove low_memory=False if its lagging"
   ]
  },
  {
   "cell_type": "code",
   "execution_count": null,
   "id": "420c149a-6a92-4781-b124-ea228e88f627",
   "metadata": {},
   "outputs": [],
   "source": [
    "df.head()"
   ]
  },
  {
   "cell_type": "code",
   "execution_count": null,
   "id": "84383e9b-80fd-4dfa-862e-3bef45e504c7",
   "metadata": {},
   "outputs": [],
   "source": [
    "df_sample = df.sample(n=1000000, seed=42)\n",
    "df_sample.write_csv(\"sample.csv\")"
   ]
  },
  {
   "cell_type": "markdown",
   "id": "83df6ac2-8533-4da4-a1af-8db22762400b",
   "metadata": {},
   "source": [
    "#### Loading from sample.csv"
   ]
  },
  {
   "cell_type": "markdown",
   "id": "2d26c96e-dfef-49ed-8d63-4acdeef61ad9",
   "metadata": {},
   "source": [
    "The cell below may take a long time to run"
   ]
  },
  {
   "cell_type": "code",
   "execution_count": 6,
   "id": "57047937-7bbc-471f-88c8-8bbfac15bdf0",
   "metadata": {},
   "outputs": [],
   "source": [
    "df_sample = pd.read_csv('sample.csv', low_memory=False)\n",
    "engine = create_engine(\"postgresql://localhost/db\")\n",
    "df_sample.to_sql(name=\"covid\", con=engine)\n",
    "engine.dispose()"
   ]
  },
  {
   "cell_type": "code",
   "execution_count": 7,
   "id": "d416b946-4601-4ca9-8a45-08bfde71c09a",
   "metadata": {},
   "outputs": [
    {
     "data": {
      "text/html": [
       "<span style=\"None\">Connecting to &#x27;postgresql://localhost/db&#x27;</span>"
      ],
      "text/plain": [
       "Connecting to 'postgresql://localhost/db'"
      ]
     },
     "metadata": {},
     "output_type": "display_data"
    }
   ],
   "source": [
    "%sql postgresql://localhost/db"
   ]
  },
  {
   "cell_type": "code",
   "execution_count": 8,
   "id": "df5b6b7a-4e4e-408f-8ddd-995558063fc6",
   "metadata": {},
   "outputs": [
    {
     "data": {
      "text/html": [
       "<table>\n",
       "    <thead>\n",
       "        <tr>\n",
       "            <th>Name</th>\n",
       "        </tr>\n",
       "    </thead>\n",
       "    <tbody>\n",
       "        <tr>\n",
       "            <td>covid</td>\n",
       "        </tr>\n",
       "    </tbody>\n",
       "</table>"
      ],
      "text/plain": [
       "+-------+\n",
       "|  Name |\n",
       "+-------+\n",
       "| covid |\n",
       "+-------+"
      ]
     },
     "execution_count": 8,
     "metadata": {},
     "output_type": "execute_result"
    }
   ],
   "source": [
    "%sqlcmd tables"
   ]
  },
  {
   "cell_type": "code",
   "execution_count": 9,
   "id": "6763908a-6027-4bc8-8f02-f05646e22d08",
   "metadata": {
    "scrolled": true
   },
   "outputs": [
    {
     "data": {
      "text/html": [
       "<span style=\"None\">Running query in &#x27;postgresql://localhost/db&#x27;</span>"
      ],
      "text/plain": [
       "Running query in 'postgresql://localhost/db'"
      ]
     },
     "metadata": {},
     "output_type": "display_data"
    },
    {
     "data": {
      "text/html": [
       "<span style=\"color: green\">10 rows affected.</span>"
      ],
      "text/plain": [
       "10 rows affected."
      ]
     },
     "metadata": {},
     "output_type": "display_data"
    },
    {
     "data": {
      "text/html": [
       "<table>\n",
       "    <thead>\n",
       "        <tr>\n",
       "            <th>index</th>\n",
       "            <th>cdc_report_dt</th>\n",
       "            <th>pos_spec_dt</th>\n",
       "            <th>onset_dt</th>\n",
       "            <th>current_status</th>\n",
       "            <th>sex</th>\n",
       "            <th>age_group</th>\n",
       "            <th>Race and ethnicity (combined)</th>\n",
       "            <th>hosp_yn</th>\n",
       "            <th>icu_yn</th>\n",
       "            <th>death_yn</th>\n",
       "            <th>medcond_yn</th>\n",
       "            <th>cdc_report_dtYear</th>\n",
       "            <th>cdc_report_dtMonth</th>\n",
       "            <th>cdc_report_dtWeek</th>\n",
       "            <th>cdc_report_dtDay</th>\n",
       "            <th>cdc_report_dtDayofweek</th>\n",
       "            <th>cdc_report_dtDayofyear</th>\n",
       "            <th>cdc_report_dtIs_month_end</th>\n",
       "            <th>cdc_report_dtIs_month_start</th>\n",
       "            <th>cdc_report_dtIs_quarter_end</th>\n",
       "            <th>cdc_report_dtIs_quarter_start</th>\n",
       "            <th>cdc_report_dtIs_year_end</th>\n",
       "            <th>cdc_report_dtIs_year_start</th>\n",
       "            <th>cdc_report_dtElapsed</th>\n",
       "            <th>pos_spec_dt_was_missing</th>\n",
       "            <th>onset_dt_was_missing</th>\n",
       "            <th>sex_was_missing</th>\n",
       "            <th>age_group_was_missing</th>\n",
       "            <th>Race and ethnicity (combined)_was_missing</th>\n",
       "            <th>pos_difference</th>\n",
       "            <th>onset_difference</th>\n",
       "        </tr>\n",
       "    </thead>\n",
       "    <tbody>\n",
       "        <tr>\n",
       "            <td>0</td>\n",
       "            <td>2020-10-08</td>\n",
       "            <td>None</td>\n",
       "            <td>None</td>\n",
       "            <td>Laboratory-confirmed case</td>\n",
       "            <td>Female</td>\n",
       "            <td>80+ Years</td>\n",
       "            <td>Black, Non-Hispanic</td>\n",
       "            <td>Yes</td>\n",
       "            <td>Missing</td>\n",
       "            <td>Yes</td>\n",
       "            <td>Unknown</td>\n",
       "            <td>2020</td>\n",
       "            <td>10</td>\n",
       "            <td>41</td>\n",
       "            <td>8</td>\n",
       "            <td>3</td>\n",
       "            <td>282</td>\n",
       "            <td>False</td>\n",
       "            <td>False</td>\n",
       "            <td>False</td>\n",
       "            <td>False</td>\n",
       "            <td>False</td>\n",
       "            <td>False</td>\n",
       "            <td>1602115200</td>\n",
       "            <td>True</td>\n",
       "            <td>True</td>\n",
       "            <td>False</td>\n",
       "            <td>False</td>\n",
       "            <td>False</td>\n",
       "            <td>None</td>\n",
       "            <td>None</td>\n",
       "        </tr>\n",
       "        <tr>\n",
       "            <td>1</td>\n",
       "            <td>2020-08-20</td>\n",
       "            <td>None</td>\n",
       "            <td>2020-08-09</td>\n",
       "            <td>Laboratory-confirmed case</td>\n",
       "            <td>Female</td>\n",
       "            <td>60 - 69 Years</td>\n",
       "            <td>White, Non-Hispanic</td>\n",
       "            <td>No</td>\n",
       "            <td>No</td>\n",
       "            <td>Unknown</td>\n",
       "            <td>Missing</td>\n",
       "            <td>2020</td>\n",
       "            <td>8</td>\n",
       "            <td>34</td>\n",
       "            <td>20</td>\n",
       "            <td>3</td>\n",
       "            <td>233</td>\n",
       "            <td>False</td>\n",
       "            <td>False</td>\n",
       "            <td>False</td>\n",
       "            <td>False</td>\n",
       "            <td>False</td>\n",
       "            <td>False</td>\n",
       "            <td>1597881600</td>\n",
       "            <td>True</td>\n",
       "            <td>False</td>\n",
       "            <td>False</td>\n",
       "            <td>False</td>\n",
       "            <td>False</td>\n",
       "            <td>None</td>\n",
       "            <td>11.0</td>\n",
       "        </tr>\n",
       "        <tr>\n",
       "            <td>2</td>\n",
       "            <td>2020-07-11</td>\n",
       "            <td>None</td>\n",
       "            <td>2020-06-24</td>\n",
       "            <td>Laboratory-confirmed case</td>\n",
       "            <td>Female</td>\n",
       "            <td>20 - 29 Years</td>\n",
       "            <td>White, Non-Hispanic</td>\n",
       "            <td>No</td>\n",
       "            <td>Missing</td>\n",
       "            <td>No</td>\n",
       "            <td>Missing</td>\n",
       "            <td>2020</td>\n",
       "            <td>7</td>\n",
       "            <td>28</td>\n",
       "            <td>11</td>\n",
       "            <td>5</td>\n",
       "            <td>193</td>\n",
       "            <td>False</td>\n",
       "            <td>False</td>\n",
       "            <td>False</td>\n",
       "            <td>False</td>\n",
       "            <td>False</td>\n",
       "            <td>False</td>\n",
       "            <td>1594425600</td>\n",
       "            <td>True</td>\n",
       "            <td>False</td>\n",
       "            <td>False</td>\n",
       "            <td>False</td>\n",
       "            <td>False</td>\n",
       "            <td>None</td>\n",
       "            <td>17.0</td>\n",
       "        </tr>\n",
       "        <tr>\n",
       "            <td>3</td>\n",
       "            <td>2020-10-14</td>\n",
       "            <td>None</td>\n",
       "            <td>2020-10-10</td>\n",
       "            <td>Laboratory-confirmed case</td>\n",
       "            <td>Male</td>\n",
       "            <td>40 - 49 Years</td>\n",
       "            <td>Hispanic/Latino</td>\n",
       "            <td>Missing</td>\n",
       "            <td>Missing</td>\n",
       "            <td>Missing</td>\n",
       "            <td>Missing</td>\n",
       "            <td>2020</td>\n",
       "            <td>10</td>\n",
       "            <td>42</td>\n",
       "            <td>14</td>\n",
       "            <td>2</td>\n",
       "            <td>288</td>\n",
       "            <td>False</td>\n",
       "            <td>False</td>\n",
       "            <td>False</td>\n",
       "            <td>False</td>\n",
       "            <td>False</td>\n",
       "            <td>False</td>\n",
       "            <td>1602633600</td>\n",
       "            <td>True</td>\n",
       "            <td>False</td>\n",
       "            <td>False</td>\n",
       "            <td>False</td>\n",
       "            <td>False</td>\n",
       "            <td>None</td>\n",
       "            <td>4.0</td>\n",
       "        </tr>\n",
       "        <tr>\n",
       "            <td>4</td>\n",
       "            <td>2020-08-04</td>\n",
       "            <td>None</td>\n",
       "            <td>None</td>\n",
       "            <td>Laboratory-confirmed case</td>\n",
       "            <td>Female</td>\n",
       "            <td>0 - 9 Years</td>\n",
       "            <td>Unknown</td>\n",
       "            <td>Missing</td>\n",
       "            <td>Missing</td>\n",
       "            <td>Missing</td>\n",
       "            <td>Missing</td>\n",
       "            <td>2020</td>\n",
       "            <td>8</td>\n",
       "            <td>32</td>\n",
       "            <td>4</td>\n",
       "            <td>1</td>\n",
       "            <td>217</td>\n",
       "            <td>False</td>\n",
       "            <td>False</td>\n",
       "            <td>False</td>\n",
       "            <td>False</td>\n",
       "            <td>False</td>\n",
       "            <td>False</td>\n",
       "            <td>1596499200</td>\n",
       "            <td>True</td>\n",
       "            <td>True</td>\n",
       "            <td>False</td>\n",
       "            <td>False</td>\n",
       "            <td>False</td>\n",
       "            <td>None</td>\n",
       "            <td>None</td>\n",
       "        </tr>\n",
       "        <tr>\n",
       "            <td>5</td>\n",
       "            <td>2020-08-15</td>\n",
       "            <td>None</td>\n",
       "            <td>2020-06-16</td>\n",
       "            <td>Laboratory-confirmed case</td>\n",
       "            <td>Female</td>\n",
       "            <td>50 - 59 Years</td>\n",
       "            <td>Black, Non-Hispanic</td>\n",
       "            <td>No</td>\n",
       "            <td>Missing</td>\n",
       "            <td>No</td>\n",
       "            <td>Missing</td>\n",
       "            <td>2020</td>\n",
       "            <td>8</td>\n",
       "            <td>33</td>\n",
       "            <td>15</td>\n",
       "            <td>5</td>\n",
       "            <td>228</td>\n",
       "            <td>False</td>\n",
       "            <td>False</td>\n",
       "            <td>False</td>\n",
       "            <td>False</td>\n",
       "            <td>False</td>\n",
       "            <td>False</td>\n",
       "            <td>1597449600</td>\n",
       "            <td>True</td>\n",
       "            <td>False</td>\n",
       "            <td>False</td>\n",
       "            <td>False</td>\n",
       "            <td>False</td>\n",
       "            <td>None</td>\n",
       "            <td>60.0</td>\n",
       "        </tr>\n",
       "        <tr>\n",
       "            <td>6</td>\n",
       "            <td>2020-07-25</td>\n",
       "            <td>None</td>\n",
       "            <td>None</td>\n",
       "            <td>Laboratory-confirmed case</td>\n",
       "            <td>Male</td>\n",
       "            <td>40 - 49 Years</td>\n",
       "            <td>Unknown</td>\n",
       "            <td>No</td>\n",
       "            <td>Missing</td>\n",
       "            <td>No</td>\n",
       "            <td>Missing</td>\n",
       "            <td>2020</td>\n",
       "            <td>7</td>\n",
       "            <td>30</td>\n",
       "            <td>25</td>\n",
       "            <td>5</td>\n",
       "            <td>207</td>\n",
       "            <td>False</td>\n",
       "            <td>False</td>\n",
       "            <td>False</td>\n",
       "            <td>False</td>\n",
       "            <td>False</td>\n",
       "            <td>False</td>\n",
       "            <td>1595635200</td>\n",
       "            <td>True</td>\n",
       "            <td>True</td>\n",
       "            <td>False</td>\n",
       "            <td>False</td>\n",
       "            <td>False</td>\n",
       "            <td>None</td>\n",
       "            <td>None</td>\n",
       "        </tr>\n",
       "        <tr>\n",
       "            <td>7</td>\n",
       "            <td>2020-06-12</td>\n",
       "            <td>None</td>\n",
       "            <td>2020-06-12</td>\n",
       "            <td>Laboratory-confirmed case</td>\n",
       "            <td>Male</td>\n",
       "            <td>30 - 39 Years</td>\n",
       "            <td>Unknown</td>\n",
       "            <td>No</td>\n",
       "            <td>Missing</td>\n",
       "            <td>No</td>\n",
       "            <td>Missing</td>\n",
       "            <td>2020</td>\n",
       "            <td>6</td>\n",
       "            <td>24</td>\n",
       "            <td>12</td>\n",
       "            <td>4</td>\n",
       "            <td>164</td>\n",
       "            <td>False</td>\n",
       "            <td>False</td>\n",
       "            <td>False</td>\n",
       "            <td>False</td>\n",
       "            <td>False</td>\n",
       "            <td>False</td>\n",
       "            <td>1591920000</td>\n",
       "            <td>True</td>\n",
       "            <td>False</td>\n",
       "            <td>False</td>\n",
       "            <td>False</td>\n",
       "            <td>False</td>\n",
       "            <td>None</td>\n",
       "            <td>0.0</td>\n",
       "        </tr>\n",
       "        <tr>\n",
       "            <td>8</td>\n",
       "            <td>2020-05-15</td>\n",
       "            <td>None</td>\n",
       "            <td>None</td>\n",
       "            <td>Laboratory-confirmed case</td>\n",
       "            <td>Male</td>\n",
       "            <td>70 - 79 Years</td>\n",
       "            <td>White, Non-Hispanic</td>\n",
       "            <td>Missing</td>\n",
       "            <td>Missing</td>\n",
       "            <td>Missing</td>\n",
       "            <td>Missing</td>\n",
       "            <td>2020</td>\n",
       "            <td>5</td>\n",
       "            <td>20</td>\n",
       "            <td>15</td>\n",
       "            <td>4</td>\n",
       "            <td>136</td>\n",
       "            <td>False</td>\n",
       "            <td>False</td>\n",
       "            <td>False</td>\n",
       "            <td>False</td>\n",
       "            <td>False</td>\n",
       "            <td>False</td>\n",
       "            <td>1589500800</td>\n",
       "            <td>True</td>\n",
       "            <td>True</td>\n",
       "            <td>False</td>\n",
       "            <td>False</td>\n",
       "            <td>False</td>\n",
       "            <td>None</td>\n",
       "            <td>None</td>\n",
       "        </tr>\n",
       "        <tr>\n",
       "            <td>9</td>\n",
       "            <td>2020-11-01</td>\n",
       "            <td>None</td>\n",
       "            <td>2020-10-22</td>\n",
       "            <td>Laboratory-confirmed case</td>\n",
       "            <td>Male</td>\n",
       "            <td>10 - 19 Years</td>\n",
       "            <td>Hispanic/Latino</td>\n",
       "            <td>No</td>\n",
       "            <td>Missing</td>\n",
       "            <td>Missing</td>\n",
       "            <td>Missing</td>\n",
       "            <td>2020</td>\n",
       "            <td>11</td>\n",
       "            <td>44</td>\n",
       "            <td>1</td>\n",
       "            <td>6</td>\n",
       "            <td>306</td>\n",
       "            <td>False</td>\n",
       "            <td>True</td>\n",
       "            <td>False</td>\n",
       "            <td>False</td>\n",
       "            <td>False</td>\n",
       "            <td>False</td>\n",
       "            <td>1604188800</td>\n",
       "            <td>True</td>\n",
       "            <td>False</td>\n",
       "            <td>False</td>\n",
       "            <td>False</td>\n",
       "            <td>False</td>\n",
       "            <td>None</td>\n",
       "            <td>10.0</td>\n",
       "        </tr>\n",
       "    </tbody>\n",
       "</table>\n",
       "<span style=\"font-style:italic;text-align:center;\">Truncated to <a href=\"https://jupysql.ploomber.io/en/latest/api/configuration.html#displaylimit\">displaylimit</a> of 10.</span>"
      ],
      "text/plain": [
       "+-------+---------------+-------------+------------+---------------------------+--------+---------------+-------------------------------+---------+---------+----------+------------+-------------------+--------------------+-------------------+------------------+------------------------+------------------------+---------------------------+-----------------------------+-----------------------------+-------------------------------+--------------------------+----------------------------+----------------------+-------------------------+----------------------+-----------------+-----------------------+-------------------------------------------+----------------+------------------+\n",
       "| index | cdc_report_dt | pos_spec_dt |  onset_dt  |       current_status      |  sex   |   age_group   | Race and ethnicity (combined) | hosp_yn |  icu_yn | death_yn | medcond_yn | cdc_report_dtYear | cdc_report_dtMonth | cdc_report_dtWeek | cdc_report_dtDay | cdc_report_dtDayofweek | cdc_report_dtDayofyear | cdc_report_dtIs_month_end | cdc_report_dtIs_month_start | cdc_report_dtIs_quarter_end | cdc_report_dtIs_quarter_start | cdc_report_dtIs_year_end | cdc_report_dtIs_year_start | cdc_report_dtElapsed | pos_spec_dt_was_missing | onset_dt_was_missing | sex_was_missing | age_group_was_missing | Race and ethnicity (combined)_was_missing | pos_difference | onset_difference |\n",
       "+-------+---------------+-------------+------------+---------------------------+--------+---------------+-------------------------------+---------+---------+----------+------------+-------------------+--------------------+-------------------+------------------+------------------------+------------------------+---------------------------+-----------------------------+-----------------------------+-------------------------------+--------------------------+----------------------------+----------------------+-------------------------+----------------------+-----------------+-----------------------+-------------------------------------------+----------------+------------------+\n",
       "|   0   |   2020-10-08  |     None    |    None    | Laboratory-confirmed case | Female |   80+ Years   |      Black, Non-Hispanic      |   Yes   | Missing |   Yes    |  Unknown   |        2020       |         10         |         41        |        8         |           3            |          282           |           False           |            False            |            False            |             False             |          False           |           False            |      1602115200      |           True          |         True         |      False      |         False         |                   False                   |      None      |       None       |\n",
       "|   1   |   2020-08-20  |     None    | 2020-08-09 | Laboratory-confirmed case | Female | 60 - 69 Years |      White, Non-Hispanic      |    No   |    No   | Unknown  |  Missing   |        2020       |         8          |         34        |        20        |           3            |          233           |           False           |            False            |            False            |             False             |          False           |           False            |      1597881600      |           True          |        False         |      False      |         False         |                   False                   |      None      |       11.0       |\n",
       "|   2   |   2020-07-11  |     None    | 2020-06-24 | Laboratory-confirmed case | Female | 20 - 29 Years |      White, Non-Hispanic      |    No   | Missing |    No    |  Missing   |        2020       |         7          |         28        |        11        |           5            |          193           |           False           |            False            |            False            |             False             |          False           |           False            |      1594425600      |           True          |        False         |      False      |         False         |                   False                   |      None      |       17.0       |\n",
       "|   3   |   2020-10-14  |     None    | 2020-10-10 | Laboratory-confirmed case |  Male  | 40 - 49 Years |        Hispanic/Latino        | Missing | Missing | Missing  |  Missing   |        2020       |         10         |         42        |        14        |           2            |          288           |           False           |            False            |            False            |             False             |          False           |           False            |      1602633600      |           True          |        False         |      False      |         False         |                   False                   |      None      |       4.0        |\n",
       "|   4   |   2020-08-04  |     None    |    None    | Laboratory-confirmed case | Female |  0 - 9 Years  |            Unknown            | Missing | Missing | Missing  |  Missing   |        2020       |         8          |         32        |        4         |           1            |          217           |           False           |            False            |            False            |             False             |          False           |           False            |      1596499200      |           True          |         True         |      False      |         False         |                   False                   |      None      |       None       |\n",
       "|   5   |   2020-08-15  |     None    | 2020-06-16 | Laboratory-confirmed case | Female | 50 - 59 Years |      Black, Non-Hispanic      |    No   | Missing |    No    |  Missing   |        2020       |         8          |         33        |        15        |           5            |          228           |           False           |            False            |            False            |             False             |          False           |           False            |      1597449600      |           True          |        False         |      False      |         False         |                   False                   |      None      |       60.0       |\n",
       "|   6   |   2020-07-25  |     None    |    None    | Laboratory-confirmed case |  Male  | 40 - 49 Years |            Unknown            |    No   | Missing |    No    |  Missing   |        2020       |         7          |         30        |        25        |           5            |          207           |           False           |            False            |            False            |             False             |          False           |           False            |      1595635200      |           True          |         True         |      False      |         False         |                   False                   |      None      |       None       |\n",
       "|   7   |   2020-06-12  |     None    | 2020-06-12 | Laboratory-confirmed case |  Male  | 30 - 39 Years |            Unknown            |    No   | Missing |    No    |  Missing   |        2020       |         6          |         24        |        12        |           4            |          164           |           False           |            False            |            False            |             False             |          False           |           False            |      1591920000      |           True          |        False         |      False      |         False         |                   False                   |      None      |       0.0        |\n",
       "|   8   |   2020-05-15  |     None    |    None    | Laboratory-confirmed case |  Male  | 70 - 79 Years |      White, Non-Hispanic      | Missing | Missing | Missing  |  Missing   |        2020       |         5          |         20        |        15        |           4            |          136           |           False           |            False            |            False            |             False             |          False           |           False            |      1589500800      |           True          |         True         |      False      |         False         |                   False                   |      None      |       None       |\n",
       "|   9   |   2020-11-01  |     None    | 2020-10-22 | Laboratory-confirmed case |  Male  | 10 - 19 Years |        Hispanic/Latino        |    No   | Missing | Missing  |  Missing   |        2020       |         11         |         44        |        1         |           6            |          306           |           False           |             True            |            False            |             False             |          False           |           False            |      1604188800      |           True          |        False         |      False      |         False         |                   False                   |      None      |       10.0       |\n",
       "+-------+---------------+-------------+------------+---------------------------+--------+---------------+-------------------------------+---------+---------+----------+------------+-------------------+--------------------+-------------------+------------------+------------------------+------------------------+---------------------------+-----------------------------+-----------------------------+-------------------------------+--------------------------+----------------------------+----------------------+-------------------------+----------------------+-----------------+-----------------------+-------------------------------------------+----------------+------------------+\n",
       "Truncated to displaylimit of 10."
      ]
     },
     "execution_count": 9,
     "metadata": {},
     "output_type": "execute_result"
    }
   ],
   "source": [
    "%%sql\n",
    "SELECT *\n",
    "FROM covid\n",
    "LIMIT 10;"
   ]
  },
  {
   "cell_type": "code",
   "execution_count": 10,
   "id": "6c52db59-e54b-4870-8e42-9a7df772b82f",
   "metadata": {},
   "outputs": [
    {
     "data": {
      "text/html": [
       "<span style=\"None\">displaylimit: Value None will be treated as 0 (no limit)</span>"
      ],
      "text/plain": [
       "displaylimit: Value None will be treated as 0 (no limit)"
      ]
     },
     "metadata": {},
     "output_type": "display_data"
    }
   ],
   "source": [
    "%config SqlMagic.displaylimit = None"
   ]
  },
  {
   "cell_type": "markdown",
   "id": "3994a40e-da62-44b8-b2f3-48c7e1a1a591",
   "metadata": {},
   "source": [
    "## Query"
   ]
  },
  {
   "cell_type": "markdown",
   "id": "bd13aa34-aa44-42f4-a2ae-34a67660ed88",
   "metadata": {},
   "source": [
    "For each query:\n",
    "- Explain what task the query is trying to accomplish  \n",
    "- Explain why this is a reasonable tasks for understanding or evaluating your chosen data system  \n",
    "- An analysis of its performance. What could make it faster? What did you try to make it faster? For example, if you added an index, show the before and after."
   ]
  },
  {
   "cell_type": "code",
   "execution_count": 11,
   "id": "7a1942af-7ceb-43bd-81fe-974d58566e66",
   "metadata": {},
   "outputs": [
    {
     "data": {
      "text/html": [
       "<span style=\"None\">Running query in &#x27;postgresql://localhost/db&#x27;</span>"
      ],
      "text/plain": [
       "Running query in 'postgresql://localhost/db'"
      ]
     },
     "metadata": {},
     "output_type": "display_data"
    },
    {
     "data": {
      "text/html": [
       "<span style=\"color: green\">10 rows affected.</span>"
      ],
      "text/plain": [
       "10 rows affected."
      ]
     },
     "metadata": {},
     "output_type": "display_data"
    },
    {
     "data": {
      "text/html": [
       "<table>\n",
       "    <thead>\n",
       "        <tr>\n",
       "            <th>age_group</th>\n",
       "            <th>male_lab_confirmed_cases</th>\n",
       "        </tr>\n",
       "    </thead>\n",
       "    <tbody>\n",
       "        <tr>\n",
       "            <td>0 - 9 Years</td>\n",
       "            <td>16665</td>\n",
       "        </tr>\n",
       "        <tr>\n",
       "            <td>10 - 19 Years</td>\n",
       "            <td>44026</td>\n",
       "        </tr>\n",
       "        <tr>\n",
       "            <td>20 - 29 Years</td>\n",
       "            <td>86177</td>\n",
       "        </tr>\n",
       "        <tr>\n",
       "            <td>30 - 39 Years</td>\n",
       "            <td>74471</td>\n",
       "        </tr>\n",
       "        <tr>\n",
       "            <td>40 - 49 Years</td>\n",
       "            <td>67577</td>\n",
       "        </tr>\n",
       "        <tr>\n",
       "            <td>50 - 59 Years</td>\n",
       "            <td>66398</td>\n",
       "        </tr>\n",
       "        <tr>\n",
       "            <td>60 - 69 Years</td>\n",
       "            <td>47997</td>\n",
       "        </tr>\n",
       "        <tr>\n",
       "            <td>70 - 79 Years</td>\n",
       "            <td>26304</td>\n",
       "        </tr>\n",
       "        <tr>\n",
       "            <td>80+ Years</td>\n",
       "            <td>16084</td>\n",
       "        </tr>\n",
       "        <tr>\n",
       "            <td>Unknown</td>\n",
       "            <td>1076</td>\n",
       "        </tr>\n",
       "    </tbody>\n",
       "</table>"
      ],
      "text/plain": [
       "+---------------+--------------------------+\n",
       "|   age_group   | male_lab_confirmed_cases |\n",
       "+---------------+--------------------------+\n",
       "|  0 - 9 Years  |          16665           |\n",
       "| 10 - 19 Years |          44026           |\n",
       "| 20 - 29 Years |          86177           |\n",
       "| 30 - 39 Years |          74471           |\n",
       "| 40 - 49 Years |          67577           |\n",
       "| 50 - 59 Years |          66398           |\n",
       "| 60 - 69 Years |          47997           |\n",
       "| 70 - 79 Years |          26304           |\n",
       "|   80+ Years   |          16084           |\n",
       "|    Unknown    |           1076           |\n",
       "+---------------+--------------------------+"
      ]
     },
     "execution_count": 11,
     "metadata": {},
     "output_type": "execute_result"
    }
   ],
   "source": [
    "%%sql\n",
    "SELECT\n",
    "  age_group,\n",
    "  COUNT(*) AS male_lab_confirmed_cases\n",
    "FROM covid\n",
    "WHERE\n",
    "  sex = 'Male'\n",
    "  AND current_status = 'Laboratory-confirmed case'\n",
    "GROUP BY age_group\n",
    "ORDER BY age_group;\n"
   ]
  },
  {
   "cell_type": "code",
   "execution_count": null,
   "id": "719aa90d-80d9-48bd-bc1e-7c486bc11d28",
   "metadata": {},
   "outputs": [],
   "source": [
    "# Trying to make it faster  "
   ]
  },
  {
   "cell_type": "code",
   "execution_count": null,
   "id": "fb9fcbed-c292-445c-8b94-69c1db94887f",
   "metadata": {},
   "outputs": [],
   "source": [
    "# before and after speed "
   ]
  },
  {
   "cell_type": "code",
   "execution_count": null,
   "id": "283c3d3e-148d-4167-b7cf-ceed1cf29f8f",
   "metadata": {},
   "outputs": [],
   "source": [
    "# Comparison with MongoDB Query"
   ]
  }
 ],
 "metadata": {
  "kernelspec": {
   "display_name": "Python 3 (ipykernel)",
   "language": "python",
   "name": "python3"
  },
  "language_info": {
   "codemirror_mode": {
    "name": "ipython",
    "version": 3
   },
   "file_extension": ".py",
   "mimetype": "text/x-python",
   "name": "python",
   "nbconvert_exporter": "python",
   "pygments_lexer": "ipython3",
   "version": "3.11.7"
  }
 },
 "nbformat": 4,
 "nbformat_minor": 5
}
