{
 "cells": [
  {
   "cell_type": "code",
   "execution_count": 1,
   "id": "5ac97275-466e-405e-8325-d5160a80745a",
   "metadata": {},
   "outputs": [],
   "source": [
    "import pickle\n",
    "import pandas as pd\n",
    "import pymongo\n",
    "from pymongo import TEXT\n",
    "import numpy as np"
   ]
  },
  {
   "cell_type": "markdown",
   "id": "2c5ce1e8-dd03-4de0-b809-8563532543bd",
   "metadata": {},
   "source": [
    "### Database Setup"
   ]
  },
  {
   "cell_type": "markdown",
   "id": "5a7b5371-5e98-47d3-83d9-92a89e843a82",
   "metadata": {},
   "source": [
    "To download the data you can uncomment the following code below:"
   ]
  },
  {
   "cell_type": "code",
   "execution_count": 2,
   "id": "ea7c0c29-f28d-4141-a939-af2e06afbf57",
   "metadata": {},
   "outputs": [],
   "source": [
    "# !gdown 1NOhnBmfMpJqv3kJ-z9klC0JPmAc2g-6K"
   ]
  },
  {
   "cell_type": "code",
   "execution_count": 3,
   "id": "c0f58088-b6b6-4487-b318-56af9e6c9d2e",
   "metadata": {},
   "outputs": [],
   "source": [
    "myclient = pymongo.MongoClient(\"mongodb://localhost\")\n",
    "mydb = myclient[\"db\"]\n",
    "covid = mydb[\"covid\"]"
   ]
  },
  {
   "cell_type": "code",
   "execution_count": null,
   "id": "9a48cafd-c561-4a31-af2c-5daad12c7246",
   "metadata": {},
   "outputs": [],
   "source": [
    "df_sample = pd.read_csv('sample.csv', low_memory=False)\n",
    "df_sample.head()"
   ]
  },
  {
   "cell_type": "code",
   "execution_count": 6,
   "id": "286ed2cf-a829-4408-94bf-e2b03cb1cdfb",
   "metadata": {},
   "outputs": [],
   "source": [
    "data_dict = df_sample.to_dict(\"records\")"
   ]
  },
  {
   "cell_type": "code",
   "execution_count": 7,
   "id": "bb82167b-79d6-40b1-9329-12ffad6d8b68",
   "metadata": {},
   "outputs": [
    {
     "data": {
      "text/plain": [
       "{'_id': ObjectId('681015a855f74aec9bc8334e'),\n",
       " 'cdc_report_dt': '2020-06-08',\n",
       " 'pos_spec_dt': '2020-06-06',\n",
       " 'onset_dt': nan,\n",
       " 'current_status': 'Laboratory-confirmed case',\n",
       " 'sex': 'Female',\n",
       " 'age_group': '60 - 69 Years',\n",
       " 'Race and ethnicity (combined)': 'Unknown',\n",
       " 'hosp_yn': 'Missing',\n",
       " 'icu_yn': 'Missing',\n",
       " 'death_yn': 'Missing',\n",
       " 'medcond_yn': 'Unknown',\n",
       " 'cdc_report_dtYear': 2020,\n",
       " 'cdc_report_dtMonth': 6,\n",
       " 'cdc_report_dtWeek': 24,\n",
       " 'cdc_report_dtDay': 8,\n",
       " 'cdc_report_dtDayofweek': 0,\n",
       " 'cdc_report_dtDayofyear': 160,\n",
       " 'cdc_report_dtIs_month_end': False,\n",
       " 'cdc_report_dtIs_month_start': False,\n",
       " 'cdc_report_dtIs_quarter_end': False,\n",
       " 'cdc_report_dtIs_quarter_start': False,\n",
       " 'cdc_report_dtIs_year_end': False,\n",
       " 'cdc_report_dtIs_year_start': False,\n",
       " 'cdc_report_dtElapsed': 1591574400,\n",
       " 'pos_spec_dt_was_missing': False,\n",
       " 'onset_dt_was_missing': True,\n",
       " 'sex_was_missing': False,\n",
       " 'age_group_was_missing': False,\n",
       " 'Race and ethnicity (combined)_was_missing': False,\n",
       " 'pos_difference': 2.0,\n",
       " 'onset_difference': nan}"
      ]
     },
     "execution_count": 7,
     "metadata": {},
     "output_type": "execute_result"
    }
   ],
   "source": [
    "covid.insert_many(data_dict)\n",
    "covid.find_one()"
   ]
  },
  {
   "cell_type": "markdown",
   "id": "70e69cbf-a460-4ec4-b00c-7be6a8ceb730",
   "metadata": {},
   "source": [
    "### Query #1"
   ]
  },
  {
   "cell_type": "code",
   "execution_count": null,
   "id": "246ce5a9-d999-4629-b420-7b4e375509f6",
   "metadata": {},
   "outputs": [],
   "source": []
  }
 ],
 "metadata": {
  "kernelspec": {
   "display_name": "Python 3 (ipykernel)",
   "language": "python",
   "name": "python3"
  },
  "language_info": {
   "codemirror_mode": {
    "name": "ipython",
    "version": 3
   },
   "file_extension": ".py",
   "mimetype": "text/x-python",
   "name": "python",
   "nbconvert_exporter": "python",
   "pygments_lexer": "ipython3",
   "version": "3.12.1"
  }
 },
 "nbformat": 4,
 "nbformat_minor": 5
}
